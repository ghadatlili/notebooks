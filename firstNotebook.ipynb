{
    "cells": [
        {
            "metadata": {},
            "cell_type": "markdown",
            "source": "# My Jupyter Notebook on IBM Watson Studio\n"
        },
        {
            "metadata": {},
            "cell_type": "markdown",
            "source": "**Ghada Tlili**  \nData Scientist  "
        },
        {
            "metadata": {},
            "cell_type": "markdown",
            "source": "*I am interested in data science because it provides information to help organizations to make better strategic decisions*"
        },
        {
            "metadata": {},
            "cell_type": "code",
            "source": "### The code below adds two numbers provided by the user and displays the sum.",
            "execution_count": 3,
            "outputs": []
        },
        {
            "metadata": {},
            "cell_type": "code",
            "source": "num1 = input('Enter first number: ')\nnum2 = input('Enter second number: ')\nsum = float(num1) + float(num2)\nprint('The sum of {0} and {1} is {2}'. format(num1, num2, sum))\n",
            "execution_count": 2,
            "outputs": [
                {
                    "output_type": "stream",
                    "name": "stdout",
                    "text": "Enter first number: 1\nEnter second number: 2\nThe sum of 1 and 2 is 3.0\n"
                }
            ]
        },
        {
            "metadata": {},
            "cell_type": "markdown",
            "source": "Student | Mark1 | Mark2\n--- | --- | ---\nRobert | 15 | 16\nElene | 16 | 18\nDavid | 13 | 15\n\n----------------------------\n\n1. Robert\n    ```\n    AVG: 15.5\n    ```\n2. Elene\n    ```\n    AVG: 17\n    ```\n3. David\n    ```\n    AVG: 14"
        },
        {
            "metadata": {},
            "cell_type": "code",
            "source": "",
            "execution_count": null,
            "outputs": []
        }
    ],
    "metadata": {
        "kernelspec": {
            "name": "python3",
            "display_name": "Python 3.7",
            "language": "python"
        },
        "language_info": {
            "name": "python",
            "version": "3.7.9",
            "mimetype": "text/x-python",
            "codemirror_mode": {
                "name": "ipython",
                "version": 3
            },
            "pygments_lexer": "ipython3",
            "nbconvert_exporter": "python",
            "file_extension": ".py"
        }
    },
    "nbformat": 4,
    "nbformat_minor": 1
}