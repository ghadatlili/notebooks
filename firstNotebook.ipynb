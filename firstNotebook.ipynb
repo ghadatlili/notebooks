{
    "cells": [
        {
            "metadata": {},
            "cell_type": "markdown",
            "source": "# My Jupyter Notebook on IBM Watson Studio\n\n<b>Ghada Tlili </b>  \n\nData Scientist  \n\n<i> I am interested in data science because it provides information to help organizations to make better strategic decisions </i>\n\n### The code below adds two numbers provided by the user and displays the sum.\n"
        },
        {
            "metadata": {},
            "cell_type": "markdown",
            "source": ""
        },
        {
            "metadata": {},
            "cell_type": "code",
            "source": "num1 = input('Enter first number: ')\nnum2 = input('Enter second number: ')\nsum = float(num1) + float(num2)\nprint('The sum of {0} and {1} is {2}'. format(num1, num2, sum))\n",
            "execution_count": 2,
            "outputs": [
                {
                    "output_type": "stream",
                    "name": "stdout",
                    "text": "Enter first number: 1\nEnter second number: 2\nThe sum of 1 and 2 is 3.0\n"
                }
            ]
        },
        {
            "metadata": {},
            "cell_type": "code",
            "source": "Image(url=https://www.python.org/static/img/python-logo-large.png)",
            "execution_count": 6,
            "outputs": [
                {
                    "output_type": "error",
                    "ename": "SyntaxError",
                    "evalue": "invalid syntax (<ipython-input-6-8d4cae20962c>, line 1)",
                    "traceback": [
                        "\u001b[0;36m  File \u001b[0;32m\"<ipython-input-6-8d4cae20962c>\"\u001b[0;36m, line \u001b[0;32m1\u001b[0m\n\u001b[0;31m    Image(url=https://www.python.org/static/img/python-logo-large.png)\u001b[0m\n\u001b[0m                   ^\u001b[0m\n\u001b[0;31mSyntaxError\u001b[0m\u001b[0;31m:\u001b[0m invalid syntax\n"
                    ]
                }
            ]
        },
        {
            "metadata": {},
            "cell_type": "markdown",
            "source": "Student | Mark1 | Mark2\n--- | --- | ---\nRobert | 15 | 19\nElene | 16 | 18"
        },
        {
            "metadata": {},
            "cell_type": "markdown",
            "source": "----------------------------"
        },
        {
            "metadata": {},
            "cell_type": "code",
            "source": "",
            "execution_count": null,
            "outputs": []
        },
        {
            "metadata": {},
            "cell_type": "code",
            "source": "",
            "execution_count": null,
            "outputs": []
        }
    ],
    "metadata": {
        "kernelspec": {
            "name": "python3",
            "display_name": "Python 3.7",
            "language": "python"
        },
        "language_info": {
            "name": "python",
            "version": "3.7.9",
            "mimetype": "text/x-python",
            "codemirror_mode": {
                "name": "ipython",
                "version": 3
            },
            "pygments_lexer": "ipython3",
            "nbconvert_exporter": "python",
            "file_extension": ".py"
        }
    },
    "nbformat": 4,
    "nbformat_minor": 1
}